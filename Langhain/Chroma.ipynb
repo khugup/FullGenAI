{
 "cells": [
  {
   "cell_type": "markdown",
   "id": "e3dec7b8",
   "metadata": {},
   "source": [
    "### Chroma\n",
    "Chroma is a AI-native open source vector database focused on developer productivity and happiness. Chroma is licensed under Apache 2.0"
   ]
  },
  {
   "cell_type": "code",
   "execution_count": 1,
   "id": "f72387f3",
   "metadata": {},
   "outputs": [],
   "source": [
    "# Building a sample vectordb\n",
    "from langchain_chroma import Chroma\n",
    "from langchain_community.document_loaders import TextLoader\n",
    "from langchain_community.embeddings import OllamaEmbeddings\n",
    "from langchain_text_splitters import RecursiveCharacterTextSplitter"
   ]
  },
  {
   "cell_type": "code",
   "execution_count": 2,
   "id": "213cc349",
   "metadata": {},
   "outputs": [
    {
     "data": {
      "text/plain": [
       "[Document(metadata={'source': 'speech.txt'}, page_content='A speech essay is a written piece designed to be delivered as a spoken address, blending the structure of an essay with the delivery style of a speech. It aims to inform, persuade, or entertain an audience, requiring the writer to consider how the text will sound when spoken aloud, paying attention to elements like rhythm and emphasis. \\n')]"
      ]
     },
     "execution_count": 2,
     "metadata": {},
     "output_type": "execute_result"
    }
   ],
   "source": [
    "loader=TextLoader(\"speech.txt\")\n",
    "data=loader.load()\n",
    "data"
   ]
  },
  {
   "cell_type": "code",
   "execution_count": 3,
   "id": "aa8220a3",
   "metadata": {},
   "outputs": [],
   "source": [
    "#  Split\n",
    "text_splitter=RecursiveCharacterTextSplitter(chunk_size=500,chunk_overlap=0)\n",
    "splits=text_splitter.split_documents(data)"
   ]
  },
  {
   "cell_type": "code",
   "execution_count": null,
   "id": "985f9a4e",
   "metadata": {},
   "outputs": [],
   "source": [
    "#  Embedding\n",
    "embeddings=OllamaEmbeddings()\n",
    "vectordb=Chroma.from_documents(splits,embedding=embeddings)\n",
    "vectordb"
   ]
  },
  {
   "cell_type": "code",
   "execution_count": null,
   "id": "0636effe",
   "metadata": {},
   "outputs": [],
   "source": [
    "#  Query it\n",
    "query=\"What does the speaker beleive is the main reason the united states should enter the war?\"\n",
    "docs=vectordb.similarity_search(query)\n",
    "docs[0].page_content"
   ]
  },
  {
   "cell_type": "code",
   "execution_count": null,
   "id": "eef6e455",
   "metadata": {},
   "outputs": [],
   "source": [
    "#  Saving to the disk\n",
    "vectordb=Chroma.from_documents(document=splits,persist_directory=\"./chroma_db \")"
   ]
  },
  {
   "cell_type": "code",
   "execution_count": null,
   "id": "f813134e",
   "metadata": {},
   "outputs": [],
   "source": [
    "#  Load from disk\n",
    "db2=Chroma(persist_directory=\"./chroma_db\",embedding_function=embeddings)\n",
    "docs=db2.similarity_search(query)\n",
    "print(docs[0].page_content)"
   ]
  },
  {
   "cell_type": "code",
   "execution_count": null,
   "id": "854f36d1",
   "metadata": {},
   "outputs": [],
   "source": [
    "#  Retriever option\n",
    "retreiver=vectordb.as_retreiver()\n",
    "retreiver.invioke(query)[0].page_content"
   ]
  }
 ],
 "metadata": {
  "kernelspec": {
   "display_name": "tfenv",
   "language": "python",
   "name": "python3"
  },
  "language_info": {
   "codemirror_mode": {
    "name": "ipython",
    "version": 3
   },
   "file_extension": ".py",
   "mimetype": "text/x-python",
   "name": "python",
   "nbconvert_exporter": "python",
   "pygments_lexer": "ipython3",
   "version": "3.11.0"
  }
 },
 "nbformat": 4,
 "nbformat_minor": 5
}
