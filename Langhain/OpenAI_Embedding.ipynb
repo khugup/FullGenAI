{
 "cells": [
  {
   "cell_type": "code",
   "execution_count": null,
   "id": "8e05dbe3",
   "metadata": {},
   "outputs": [],
   "source": [
    "import os\n",
    "from dotenv import load_dotenv\n",
    "load_dotenv"
   ]
  },
  {
   "cell_type": "code",
   "execution_count": null,
   "id": "9899ab60",
   "metadata": {},
   "outputs": [],
   "source": [
    "os.environ[\"OPENAI_API_KEY\"]=os.getenv(\"OPENAI_API_KEY\")"
   ]
  },
  {
   "cell_type": "code",
   "execution_count": null,
   "id": "8f7d1ecd",
   "metadata": {},
   "outputs": [],
   "source": [
    "from langchain_openai import OpenAIEmbeddings\n",
    "embeddings=OpenAIEmbeddings(model=\"text-embedding-3-large\")\n",
    "embeddings"
   ]
  },
  {
   "cell_type": "code",
   "execution_count": null,
   "id": "e1997135",
   "metadata": {},
   "outputs": [],
   "source": [
    "text=\"This is a tutorial an OpenAI embedding\"\n",
    "query_result=embeddings.embed_query(text)\n",
    "query_result"
   ]
  },
  {
   "cell_type": "code",
   "execution_count": null,
   "id": "a99f8b29",
   "metadata": {},
   "outputs": [],
   "source": [
    "query_result[0]"
   ]
  },
  {
   "cell_type": "code",
   "execution_count": null,
   "id": "0b247f50",
   "metadata": {},
   "outputs": [],
   "source": [
    "len(query_result)"
   ]
  },
  {
   "cell_type": "code",
   "execution_count": null,
   "id": "2721a362",
   "metadata": {},
   "outputs": [],
   "source": [
    "embeddings_1024=OpenAIEmbeddings(model=\"text-embedding-3-large\",dimension=1024)\n",
    "embeddings_1024"
   ]
  },
  {
   "cell_type": "code",
   "execution_count": null,
   "id": "9ea89441",
   "metadata": {},
   "outputs": [],
   "source": [
    "text=\"This is a tutorial an OpenAI embedding\"\n",
    "query_result=embeddings_1024.embed_query(text)\n",
    "len(query_result)"
   ]
  },
  {
   "cell_type": "markdown",
   "id": "69578eba",
   "metadata": {},
   "source": [
    "### Example of load, split,embed and vector StoreDB "
   ]
  },
  {
   "cell_type": "code",
   "execution_count": null,
   "id": "e33440e3",
   "metadata": {},
   "outputs": [],
   "source": [
    "from langchain_community.document_loaders import TextLoader\n",
    "loader=TextLoader(\"speech.txt\")\n",
    "text_document=loader.load()\n",
    "text_document"
   ]
  },
  {
   "cell_type": "code",
   "execution_count": null,
   "id": "aa4acd1f",
   "metadata": {},
   "outputs": [],
   "source": [
    "from langchain_text_splitters import RecursiveCharacterTextSplitter\n",
    "text_splitter=RecursiveCharacterTextSplitter(chunk_size=500,chunk_overlap=50)\n",
    "final_document=text_splitter.split_documents(text_document)\n",
    "final_document\n"
   ]
  },
  {
   "cell_type": "code",
   "execution_count": null,
   "id": "32a94a87",
   "metadata": {},
   "outputs": [],
   "source": [
    "# Vector Embedding and Vector StoreDB\n",
    "from langchain_community.vectorstores import Chroma\n",
    "db=Chroma.from_documents(final_document,embeddings_1024)\n",
    "db"
   ]
  },
  {
   "cell_type": "code",
   "execution_count": null,
   "id": "fbf5ee10",
   "metadata": {},
   "outputs": [],
   "source": [
    "query=\"It will be all the easier for us to conduct ourselves as belligerants\"\n",
    "retrieved_result=db.similarity_search(query)\n",
    "print(retrieved_result)"
   ]
  },
  {
   "cell_type": "code",
   "execution_count": null,
   "id": "12554eb9",
   "metadata": {},
   "outputs": [],
   "source": []
  }
 ],
 "metadata": {
  "kernelspec": {
   "display_name": "tfenv",
   "language": "python",
   "name": "python3"
  },
  "language_info": {
   "codemirror_mode": {
    "name": "ipython",
    "version": 3
   },
   "file_extension": ".py",
   "mimetype": "text/x-python",
   "name": "python",
   "nbconvert_exporter": "python",
   "pygments_lexer": "ipython3",
   "version": "3.11.0"
  }
 },
 "nbformat": 4,
 "nbformat_minor": 5
}
