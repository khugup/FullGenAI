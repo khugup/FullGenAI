{
 "cells": [
  {
   "cell_type": "markdown",
   "id": "64a515b7",
   "metadata": {},
   "source": [
    "### Ollama\n",
    "Ollama supports embedding models,making it possible to build retireval augmented generstion applications that combie text prompts with existing documents or other data"
   ]
  },
  {
   "cell_type": "code",
   "execution_count": null,
   "id": "74f51c68",
   "metadata": {},
   "outputs": [],
   "source": [
    "from langchain_community.embeddings import OllamaEmbeddings"
   ]
  },
  {
   "cell_type": "code",
   "execution_count": null,
   "id": "2c7621b1",
   "metadata": {},
   "outputs": [],
   "source": [
    "embeddings=(\n",
    "    OllamaEmbeddings(model=\"gemma:2b\") # By defaut it uses llama2\n",
    ")"
   ]
  },
  {
   "cell_type": "code",
   "execution_count": null,
   "id": "83d95bd2",
   "metadata": {},
   "outputs": [],
   "source": [
    "embeddings"
   ]
  },
  {
   "cell_type": "code",
   "execution_count": null,
   "id": "ed966a8b",
   "metadata": {},
   "outputs": [],
   "source": [
    "r1=embeddings.embed_documents(\n",
    "    [\n",
    "        \"Alpha is the first letter of Greek alphabet\",\n",
    "        \"Beta is the second letter of Greek alphabet\",\n",
    "    ]\n",
    "    \n",
    ")"
   ]
  },
  {
   "cell_type": "code",
   "execution_count": null,
   "id": "8d0a0c70",
   "metadata": {},
   "outputs": [],
   "source": [
    "len(r1[0])"
   ]
  },
  {
   "cell_type": "code",
   "execution_count": null,
   "id": "b43cfa77",
   "metadata": {},
   "outputs": [],
   "source": [
    "### Other Embedding model\n",
    "embeddings=OllamaEmbeddings(model=\"mxbai-embed-large\")\n",
    "text=\"This is a test document\"\n",
    "query_result=embeddings.embed_query(\"text\")"
   ]
  },
  {
   "cell_type": "code",
   "execution_count": null,
   "id": "8253f9ad",
   "metadata": {},
   "outputs": [],
   "source": []
  },
  {
   "cell_type": "code",
   "execution_count": null,
   "id": "ce80bb16",
   "metadata": {},
   "outputs": [],
   "source": []
  },
  {
   "cell_type": "code",
   "execution_count": null,
   "id": "2bcfecc2",
   "metadata": {},
   "outputs": [],
   "source": []
  }
 ],
 "metadata": {
  "kernelspec": {
   "display_name": "tfenv",
   "language": "python",
   "name": "python3"
  },
  "language_info": {
   "codemirror_mode": {
    "name": "ipython",
    "version": 3
   },
   "file_extension": ".py",
   "mimetype": "text/x-python",
   "name": "python",
   "nbconvert_exporter": "python",
   "pygments_lexer": "ipython3",
   "version": "3.11.0"
  }
 },
 "nbformat": 4,
 "nbformat_minor": 5
}
