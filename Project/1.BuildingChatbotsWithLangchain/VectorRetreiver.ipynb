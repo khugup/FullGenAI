{
 "cells": [
  {
   "cell_type": "code",
   "execution_count": 2,
   "id": "f22ffa7d",
   "metadata": {},
   "outputs": [],
   "source": [
    "from langchain_core.documents import Document\n",
    "\n",
    "documents = [\n",
    "    Document(\n",
    "        page_content=\"Dogs are great companions\",\n",
    "        metadata={\"source\": \"mammal-pets-doc\"}\n",
    "    ),\n",
    "    Document(\n",
    "        page_content=\"Cats are independent pets\",\n",
    "        metadata={\"source\": \"mammal-pets-doc\"}\n",
    "    ),\n",
    "    Document(\n",
    "        page_content=\"Goldfish are popular pets for beginners\",\n",
    "        metadata={\"source\": \"fish-pets-doc\"}\n",
    "    )\n",
    "]\n"
   ]
  },
  {
   "cell_type": "code",
   "execution_count": 4,
   "id": "ca4ea6c4",
   "metadata": {},
   "outputs": [],
   "source": [
    "import os \n",
    "from dotenv import load_dotenv\n",
    "from langchain_groq import ChatGroq\n",
    "load_dotenv()\n",
    "groq_api_key=os.getenv(\"GROQ_API_KEY\")\n",
    "os.environ[\"HF_TOKEN\"]=os.getenv(\"HF_TOKEN\")\n",
    "llm=ChatGroq(groq_api_key=groq_api_key,model=\"Llama3-8b-8192\")"
   ]
  },
  {
   "cell_type": "code",
   "execution_count": 6,
   "id": "dcf87606",
   "metadata": {},
   "outputs": [],
   "source": [
    "from langchain_huggingface import HuggingFaceEmbeddings\n",
    "embeddings=HuggingFaceEmbeddings(model_name=\"all-MiniLM-L6-v2\")"
   ]
  },
  {
   "cell_type": "code",
   "execution_count": 7,
   "id": "acbc8cb4",
   "metadata": {},
   "outputs": [],
   "source": [
    "# VectorStores\n",
    "from langchain_chroma import Chroma\n",
    "vectorstore= Chroma.from_documents(documents,embedding=embeddings)"
   ]
  },
  {
   "cell_type": "code",
   "execution_count": 8,
   "id": "92c03839",
   "metadata": {},
   "outputs": [
    {
     "data": {
      "text/plain": [
       "[Document(id='b805e60a-50e9-444a-a450-3ba76fb1622c', metadata={'source': 'mammal-pets-doc'}, page_content='Cats are independent pets'),\n",
       " Document(id='e9c31476-c3ee-45f1-9143-73911d1f08f7', metadata={'source': 'mammal-pets-doc'}, page_content='Dogs are great companions'),\n",
       " Document(id='c29ef46f-c734-4cc0-8ef2-f39fce054f37', metadata={'source': 'fish-pets-doc'}, page_content='Goldfish are popular pets for beginners')]"
      ]
     },
     "execution_count": 8,
     "metadata": {},
     "output_type": "execute_result"
    }
   ],
   "source": [
    "vectorstore.similarity_search(\"cat\")"
   ]
  },
  {
   "cell_type": "code",
   "execution_count": 9,
   "id": "44103126",
   "metadata": {},
   "outputs": [
    {
     "data": {
      "text/plain": [
       "[Document(id='b805e60a-50e9-444a-a450-3ba76fb1622c', metadata={'source': 'mammal-pets-doc'}, page_content='Cats are independent pets'),\n",
       " Document(id='e9c31476-c3ee-45f1-9143-73911d1f08f7', metadata={'source': 'mammal-pets-doc'}, page_content='Dogs are great companions'),\n",
       " Document(id='c29ef46f-c734-4cc0-8ef2-f39fce054f37', metadata={'source': 'fish-pets-doc'}, page_content='Goldfish are popular pets for beginners')]"
      ]
     },
     "execution_count": 9,
     "metadata": {},
     "output_type": "execute_result"
    }
   ],
   "source": [
    "# Async query\n",
    "await vectorstore.asimilarity_search(\"cat\")"
   ]
  },
  {
   "cell_type": "code",
   "execution_count": 10,
   "id": "968e1249",
   "metadata": {},
   "outputs": [
    {
     "data": {
      "text/plain": [
       "[(Document(id='b805e60a-50e9-444a-a450-3ba76fb1622c', metadata={'source': 'mammal-pets-doc'}, page_content='Cats are independent pets'),\n",
       "  0.8409360647201538),\n",
       " (Document(id='e9c31476-c3ee-45f1-9143-73911d1f08f7', metadata={'source': 'mammal-pets-doc'}, page_content='Dogs are great companions'),\n",
       "  1.3763905763626099),\n",
       " (Document(id='c29ef46f-c734-4cc0-8ef2-f39fce054f37', metadata={'source': 'fish-pets-doc'}, page_content='Goldfish are popular pets for beginners'),\n",
       "  1.6656098365783691)]"
      ]
     },
     "execution_count": 10,
     "metadata": {},
     "output_type": "execute_result"
    }
   ],
   "source": [
    "vectorstore.similarity_search_with_score(\"cat\")"
   ]
  },
  {
   "cell_type": "code",
   "execution_count": 13,
   "id": "0d832144",
   "metadata": {},
   "outputs": [
    {
     "data": {
      "text/plain": [
       "[[Document(id='b805e60a-50e9-444a-a450-3ba76fb1622c', metadata={'source': 'mammal-pets-doc'}, page_content='Cats are independent pets')],\n",
       " [Document(id='e9c31476-c3ee-45f1-9143-73911d1f08f7', metadata={'source': 'mammal-pets-doc'}, page_content='Dogs are great companions')]]"
      ]
     },
     "execution_count": 13,
     "metadata": {},
     "output_type": "execute_result"
    }
   ],
   "source": [
    "from typing import List\n",
    "from langchain_core.documents import Document\n",
    "from langchain_core.runnables import RunnableLambda\n",
    "retriever=RunnableLambda(vectorstore.similarity_search).bind(k=1)\n",
    "retriever.batch([\"cat\",\"dog\"])"
   ]
  },
  {
   "cell_type": "code",
   "execution_count": 14,
   "id": "6816a904",
   "metadata": {},
   "outputs": [
    {
     "data": {
      "text/plain": [
       "[[Document(id='b805e60a-50e9-444a-a450-3ba76fb1622c', metadata={'source': 'mammal-pets-doc'}, page_content='Cats are independent pets')],\n",
       " [Document(id='e9c31476-c3ee-45f1-9143-73911d1f08f7', metadata={'source': 'mammal-pets-doc'}, page_content='Dogs are great companions')]]"
      ]
     },
     "execution_count": 14,
     "metadata": {},
     "output_type": "execute_result"
    }
   ],
   "source": [
    "retriever=vectorstore.as_retriever(\n",
    "    search_type=\"similarity\",\n",
    "    search_kwargs={\"k\":1}\n",
    ")\n",
    "retriever.batch([\"cat\",\"dog\"])"
   ]
  },
  {
   "cell_type": "code",
   "execution_count": 15,
   "id": "1a4553c8",
   "metadata": {},
   "outputs": [
    {
     "name": "stdout",
     "output_type": "stream",
     "text": [
      "Dogs are great companions.\n"
     ]
    }
   ],
   "source": [
    "from langchain_core.prompts import ChatPromptTemplate\n",
    "from langchain_core.runnables import RunnablePassthrough\n",
    "message=\"\"\"\n",
    "Answer this question using the provided context only.\n",
    "{question}\n",
    "Context:\n",
    "{context}\n",
    "\"\"\"\n",
    "prompt=ChatPromptTemplate.from_messages([(\"human\",message)])\n",
    "rag_chain={\"context\":retriever,\"question\":RunnablePassthrough()}|prompt|llm\n",
    "response=rag_chain.invoke(\"tell me about dogs\")\n",
    "print(response.content)"
   ]
  },
  {
   "cell_type": "code",
   "execution_count": null,
   "id": "45a3f2f2",
   "metadata": {},
   "outputs": [],
   "source": []
  }
 ],
 "metadata": {
  "kernelspec": {
   "display_name": "tfenv",
   "language": "python",
   "name": "python3"
  },
  "language_info": {
   "codemirror_mode": {
    "name": "ipython",
    "version": 3
   },
   "file_extension": ".py",
   "mimetype": "text/x-python",
   "name": "python",
   "nbconvert_exporter": "python",
   "pygments_lexer": "ipython3",
   "version": "3.11.0"
  }
 },
 "nbformat": 4,
 "nbformat_minor": 5
}
