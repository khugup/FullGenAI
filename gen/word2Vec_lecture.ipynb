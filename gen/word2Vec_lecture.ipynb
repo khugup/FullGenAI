{
 "cells": [
  {
   "cell_type": "code",
   "execution_count": null,
   "id": "5923f756-36c3-4801-92d0-c1450099dd34",
   "metadata": {},
   "outputs": [],
   "source": []
  }
 ],
 "metadata": {
  "kernelspec": {
   "display_name": "",
   "name": ""
  },
  "language_info": {
   "name": ""
  }
 },
 "nbformat": 4,
 "nbformat_minor": 5
}
